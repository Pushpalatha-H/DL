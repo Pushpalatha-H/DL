{
  "nbformat": 4,
  "nbformat_minor": 0,
  "metadata": {
    "colab": {
      "provenance": [],
      "authorship_tag": "ABX9TyP3JGL+BvKn0O5hHVQcBC+S",
      "include_colab_link": true
    },
    "kernelspec": {
      "name": "python3",
      "display_name": "Python 3"
    },
    "language_info": {
      "name": "python"
    }
  },
  "cells": [
    {
      "cell_type": "markdown",
      "metadata": {
        "id": "view-in-github",
        "colab_type": "text"
      },
      "source": [
        "<a href=\"https://colab.research.google.com/github/Pushpalatha-H/DL/blob/main/5_loss_or_cost_function.ipynb\" target=\"_parent\"><img src=\"https://colab.research.google.com/assets/colab-badge.svg\" alt=\"Open In Colab\"/></a>"
      ]
    },
    {
      "cell_type": "code",
      "execution_count": 21,
      "metadata": {
        "id": "NsnjJnxOrxis"
      },
      "outputs": [],
      "source": [
        "import pandas as pd\n",
        "import numpy as np"
      ]
    },
    {
      "cell_type": "code",
      "source": [
        "y_predicted = np.array([1,1,0,0,1])\n",
        "y_true = np.array([0.30,0.7,1,0,0.5])"
      ],
      "metadata": {
        "id": "y80wgDh8sQ7d"
      },
      "execution_count": 22,
      "outputs": []
    },
    {
      "cell_type": "markdown",
      "source": [
        "**Mean Absolute Error**\n",
        "\n",
        "MAE = (1/n)sum(y_true - y_predicted)"
      ],
      "metadata": {
        "id": "DBxUQl6XOIIV"
      }
    },
    {
      "cell_type": "code",
      "source": [
        "# Mean Absolute Error\n",
        "def mae(y_predicted, y_true):\n",
        "  total_error = 0\n",
        "  for yp, yt in zip(y_predicted, y_true):\n",
        "    total_error = (yp - yt)\n",
        "    print(\"Total error:\", total_error)\n",
        "    mae = total_error/len(y_predicted)\n",
        "    print(\"Mean Absolute Error:\", mae)\n",
        "    return mae"
      ],
      "metadata": {
        "id": "GdF6AjoBsTFY"
      },
      "execution_count": 23,
      "outputs": []
    },
    {
      "cell_type": "code",
      "source": [
        "mae(y_predicted, y_true)"
      ],
      "metadata": {
        "colab": {
          "base_uri": "https://localhost:8080/"
        },
        "id": "seoq_RSjuDr4",
        "outputId": "4523a4c2-7b67-4dcb-bca8-13509cc8e93e"
      },
      "execution_count": 24,
      "outputs": [
        {
          "output_type": "stream",
          "name": "stdout",
          "text": [
            "Total error: 0.7\n",
            "Mean Absolute Error: 0.13999999999999999\n"
          ]
        },
        {
          "output_type": "execute_result",
          "data": {
            "text/plain": [
              "0.13999999999999999"
            ]
          },
          "metadata": {},
          "execution_count": 24
        }
      ]
    },
    {
      "cell_type": "markdown",
      "source": [
        "**Implement using another way**"
      ],
      "metadata": {
        "id": "IwpC9cd2vlIT"
      }
    },
    {
      "cell_type": "code",
      "source": [
        "# implement same thing in another way\n",
        "np.abs(y_predicted - y_true)"
      ],
      "metadata": {
        "colab": {
          "base_uri": "https://localhost:8080/"
        },
        "id": "jDSJ7V7sub2T",
        "outputId": "5c794393-c6f7-41f4-dd92-9b9fa5ca2887"
      },
      "execution_count": 25,
      "outputs": [
        {
          "output_type": "execute_result",
          "data": {
            "text/plain": [
              "array([0.7, 0.3, 1. , 0. , 0.5])"
            ]
          },
          "metadata": {},
          "execution_count": 25
        }
      ]
    },
    {
      "cell_type": "code",
      "source": [
        "np.mean(np.abs(y_predicted-y_true))"
      ],
      "metadata": {
        "colab": {
          "base_uri": "https://localhost:8080/"
        },
        "id": "ntDnAREMup5S",
        "outputId": "44a610bc-e44b-48f8-cc29-66816afef827"
      },
      "execution_count": 26,
      "outputs": [
        {
          "output_type": "execute_result",
          "data": {
            "text/plain": [
              "0.5"
            ]
          },
          "metadata": {},
          "execution_count": 26
        }
      ]
    },
    {
      "cell_type": "code",
      "source": [
        "def mae(y_predicted, y_true):\n",
        "  return np.mean(np.abs(y_predicted-y_true))"
      ],
      "metadata": {
        "id": "Pf62BQ3auzSv"
      },
      "execution_count": 27,
      "outputs": []
    },
    {
      "cell_type": "code",
      "source": [
        "mae(y_predicted, y_true)"
      ],
      "metadata": {
        "colab": {
          "base_uri": "https://localhost:8080/"
        },
        "id": "XhfhG1cDvZ0N",
        "outputId": "27b433e5-b354-44e9-8f0f-33566907b88d"
      },
      "execution_count": 28,
      "outputs": [
        {
          "output_type": "execute_result",
          "data": {
            "text/plain": [
              "0.5"
            ]
          },
          "metadata": {},
          "execution_count": 28
        }
      ]
    },
    {
      "cell_type": "markdown",
      "source": [
        "**log loss**\n",
        "\n",
        "-(1/n)sum(y_true*np.log(y_predicted) + ((1-y_true) * np.log(1 - y_predicted))"
      ],
      "metadata": {
        "id": "YHwcgLrbN4zq"
      }
    },
    {
      "cell_type": "code",
      "source": [
        "epsilon = 1e-15\n",
        "def logloss(y_true, y_predicted):\n",
        "  y_predicted_new = [max(i, epsilon) for i in y_predicted]\n",
        "  y_predicted_new = [min(i, 1-epsilon) for i in y_predicted_new]\n",
        "  y_predicted_new = np.array(y_predicted_new)\n",
        "  return -np.mean(y_true*np.log(y_predicted_new)+(1-y_true)*np.log(1 - y_predicted_new))"
      ],
      "metadata": {
        "id": "FxBTi6AIvhDT"
      },
      "execution_count": 29,
      "outputs": []
    },
    {
      "cell_type": "code",
      "source": [
        "logloss(y_true, y_predicted)"
      ],
      "metadata": {
        "colab": {
          "base_uri": "https://localhost:8080/"
        },
        "id": "MOeRa9YNfAvh",
        "outputId": "5d76665f-7d62-4f8e-bc25-ad8f0138b15e"
      },
      "execution_count": 30,
      "outputs": [
        {
          "output_type": "execute_result",
          "data": {
            "text/plain": [
              "17.2696280766844"
            ]
          },
          "metadata": {},
          "execution_count": 30
        }
      ]
    }
  ]
}