{
  "nbformat": 4,
  "nbformat_minor": 0,
  "metadata": {
    "colab": {
      "provenance": [],
      "authorship_tag": "ABX9TyN2kNKZhysMAHkiT8zVuwLA",
      "include_colab_link": true
    },
    "kernelspec": {
      "name": "python3",
      "display_name": "Python 3"
    },
    "language_info": {
      "name": "python"
    }
  },
  "cells": [
    {
      "cell_type": "markdown",
      "metadata": {
        "id": "view-in-github",
        "colab_type": "text"
      },
      "source": [
        "<a href=\"https://colab.research.google.com/github/Pushpalatha-H/DL/blob/main/2_activation_functions.ipynb\" target=\"_parent\"><img src=\"https://colab.research.google.com/assets/colab-badge.svg\" alt=\"Open In Colab\"/></a>"
      ]
    },
    {
      "cell_type": "code",
      "execution_count": 32,
      "metadata": {
        "id": "zCH-ab75vvgl"
      },
      "outputs": [],
      "source": [
        "import pandas as pd\n",
        "import numpy as np"
      ]
    },
    {
      "cell_type": "markdown",
      "source": [
        "**sigmoid function**"
      ],
      "metadata": {
        "id": "E21sPEe6x2W-"
      }
    },
    {
      "cell_type": "code",
      "source": [
        "import math\n",
        "def sigmoid(x):                       # it will vary b/w 0 & 1\n",
        "  return 1 / (1 + math.exp(-x))\n"
      ],
      "metadata": {
        "id": "iYURTcd-wQL2"
      },
      "execution_count": 33,
      "outputs": []
    },
    {
      "cell_type": "code",
      "source": [
        "sigmoid(100)"
      ],
      "metadata": {
        "colab": {
          "base_uri": "https://localhost:8080/"
        },
        "id": "mTyPkKF5xm7c",
        "outputId": "8f7c1d65-1a89-4311-d416-09ba2be84c89"
      },
      "execution_count": 34,
      "outputs": [
        {
          "output_type": "execute_result",
          "data": {
            "text/plain": [
              "1.0"
            ]
          },
          "metadata": {},
          "execution_count": 34
        }
      ]
    },
    {
      "cell_type": "markdown",
      "source": [
        "**tan function**"
      ],
      "metadata": {
        "id": "LUh0JtE5x7Tz"
      }
    },
    {
      "cell_type": "code",
      "source": [
        "def tan(x):                       # the slope will vary b/w -1 & 1\n",
        "  return (math.exp(x) - math.exp(-x)) / (math.exp(x) + math.exp(-x))"
      ],
      "metadata": {
        "id": "RdhBEk97x1At"
      },
      "execution_count": 35,
      "outputs": []
    },
    {
      "cell_type": "code",
      "source": [
        "tan(100)"
      ],
      "metadata": {
        "colab": {
          "base_uri": "https://localhost:8080/"
        },
        "id": "gDZwQDHBynv_",
        "outputId": "c365168a-4c94-4521-8ec3-7ebf8e5e315a"
      },
      "execution_count": 36,
      "outputs": [
        {
          "output_type": "execute_result",
          "data": {
            "text/plain": [
              "1.0"
            ]
          },
          "metadata": {},
          "execution_count": 36
        }
      ]
    },
    {
      "cell_type": "markdown",
      "source": [
        "**relu function**"
      ],
      "metadata": {
        "id": "q7Pd7EG-yrSq"
      }
    },
    {
      "cell_type": "code",
      "source": [
        "def relu(x):                     # For negative value o/p will be 0\n",
        "  return max(0, x)               # For possitive value o/p will be same as i/p"
      ],
      "metadata": {
        "id": "veOIUmZnyprW"
      },
      "execution_count": 37,
      "outputs": []
    },
    {
      "cell_type": "code",
      "source": [
        "relu(100)"
      ],
      "metadata": {
        "colab": {
          "base_uri": "https://localhost:8080/"
        },
        "id": "pCXVkuXIzFbj",
        "outputId": "9a76a9ca-ddff-46e9-800b-75e62fb0a298"
      },
      "execution_count": 38,
      "outputs": [
        {
          "output_type": "execute_result",
          "data": {
            "text/plain": [
              "100"
            ]
          },
          "metadata": {},
          "execution_count": 38
        }
      ]
    },
    {
      "cell_type": "markdown",
      "source": [
        "**Leaky relu**"
      ],
      "metadata": {
        "id": "G9j0s9GMzKYS"
      }
    },
    {
      "cell_type": "code",
      "source": [
        "def leaky_relu(x):              # For negative value o/p will be negative\n",
        "  return max(0.1*x, x)          # For positive value o/p will be same as i/p"
      ],
      "metadata": {
        "id": "WmD18bBBzHsK"
      },
      "execution_count": 39,
      "outputs": []
    },
    {
      "cell_type": "code",
      "source": [
        "leaky_relu(-10)"
      ],
      "metadata": {
        "colab": {
          "base_uri": "https://localhost:8080/"
        },
        "id": "1YYQLYDGzZsV",
        "outputId": "d1bc4500-3cca-402a-e58f-2f1fd143c2ed"
      },
      "execution_count": 40,
      "outputs": [
        {
          "output_type": "execute_result",
          "data": {
            "text/plain": [
              "-1.0"
            ]
          },
          "metadata": {},
          "execution_count": 40
        }
      ]
    }
  ]
}