{
  "nbformat": 4,
  "nbformat_minor": 0,
  "metadata": {
    "colab": {
      "provenance": [],
      "authorship_tag": "ABX9TyMZIUsUZXg7vBBnzCv7vWtV",
      "include_colab_link": true
    },
    "kernelspec": {
      "name": "python3",
      "display_name": "Python 3"
    },
    "language_info": {
      "name": "python"
    }
  },
  "cells": [
    {
      "cell_type": "markdown",
      "metadata": {
        "id": "view-in-github",
        "colab_type": "text"
      },
      "source": [
        "<a href=\"https://colab.research.google.com/github/Pushpalatha-H/DL/blob/main/4_matrix_math.ipynb\" target=\"_parent\"><img src=\"https://colab.research.google.com/assets/colab-badge.svg\" alt=\"Open In Colab\"/></a>"
      ]
    },
    {
      "cell_type": "markdown",
      "source": [
        "# Matrix multiplication"
      ],
      "metadata": {
        "id": "1m643ncA7Z5n"
      }
    },
    {
      "cell_type": "code",
      "execution_count": null,
      "metadata": {
        "id": "W9Wd50jt7WLD"
      },
      "outputs": [],
      "source": [
        "import pandas as pd\n",
        "import numpy as np"
      ]
    },
    {
      "cell_type": "code",
      "source": [
        "revenue = np.array([[180, 200, 220],[24, 36, 40],[12, 18, 20]])\n",
        "expenses = np.array([[80, 90, 100],[10, 16, 20],[8, 10, 10]])"
      ],
      "metadata": {
        "id": "76Hcx_Jx7r7n"
      },
      "execution_count": null,
      "outputs": []
    },
    {
      "cell_type": "markdown",
      "source": [
        "**Calculate profit/loss from revenue and expense**"
      ],
      "metadata": {
        "id": "2FQpzvBRTH7Y"
      }
    },
    {
      "cell_type": "code",
      "source": [
        "profit = revenue - expenses\n",
        "profit"
      ],
      "metadata": {
        "colab": {
          "base_uri": "https://localhost:8080/"
        },
        "id": "JpKqAH2F8FQj",
        "outputId": "9e359f78-47d3-4fef-d026-44ec5ad51bfb"
      },
      "execution_count": null,
      "outputs": [
        {
          "output_type": "execute_result",
          "data": {
            "text/plain": [
              "array([[100, 110, 120],\n",
              "       [ 14,  20,  20],\n",
              "       [  4,   8,  10]])"
            ]
          },
          "metadata": {},
          "execution_count": 9
        }
      ]
    },
    {
      "cell_type": "markdown",
      "source": [
        "**Calculate total sales using matrix multiplication**"
      ],
      "metadata": {
        "id": "Ks6mCuFyBaFP"
      }
    },
    {
      "cell_type": "code",
      "source": [
        "price_per_unit = np.array([1000, 400, 1200])\n",
        "units = np.array([[30,40,50],[5,10,15],[2,5,7]])"
      ],
      "metadata": {
        "id": "gFbsX4pY9KqH"
      },
      "execution_count": null,
      "outputs": []
    },
    {
      "cell_type": "code",
      "source": [
        "price_per_unit*units"
      ],
      "metadata": {
        "colab": {
          "base_uri": "https://localhost:8080/"
        },
        "id": "zI8jnMLOB24j",
        "outputId": "eb06d0b8-8d28-4fe1-83bd-75242f9af722"
      },
      "execution_count": null,
      "outputs": [
        {
          "output_type": "execute_result",
          "data": {
            "text/plain": [
              "array([[30000, 16000, 60000],\n",
              "       [ 5000,  4000, 18000],\n",
              "       [ 2000,  2000,  8400]])"
            ]
          },
          "metadata": {},
          "execution_count": 11
        }
      ]
    },
    {
      "cell_type": "code",
      "source": [
        "np.dot(price_per_unit, units)"
      ],
      "metadata": {
        "colab": {
          "base_uri": "https://localhost:8080/"
        },
        "id": "GSqHfv_3B7r6",
        "outputId": "8ac16319-3d27-460d-f8bb-8de3925d58e6"
      },
      "execution_count": null,
      "outputs": [
        {
          "output_type": "execute_result",
          "data": {
            "text/plain": [
              "array([34400, 50000, 64400])"
            ]
          },
          "metadata": {},
          "execution_count": 12
        }
      ]
    }
  ]
}