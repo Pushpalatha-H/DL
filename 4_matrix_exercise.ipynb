{
  "nbformat": 4,
  "nbformat_minor": 0,
  "metadata": {
    "colab": {
      "provenance": [],
      "authorship_tag": "ABX9TyM8OU8Sviw2jlMi+Vj2i4+q",
      "include_colab_link": true
    },
    "kernelspec": {
      "name": "python3",
      "display_name": "Python 3"
    },
    "language_info": {
      "name": "python"
    }
  },
  "cells": [
    {
      "cell_type": "markdown",
      "metadata": {
        "id": "view-in-github",
        "colab_type": "text"
      },
      "source": [
        "<a href=\"https://colab.research.google.com/github/Pushpalatha-H/DL/blob/main/4_matrix_exercise.ipynb\" target=\"_parent\"><img src=\"https://colab.research.google.com/assets/colab-badge.svg\" alt=\"Open In Colab\"/></a>"
      ]
    },
    {
      "cell_type": "code",
      "execution_count": 2,
      "metadata": {
        "id": "A6At07X4mf9K"
      },
      "outputs": [],
      "source": [
        "import pandas as pd\n",
        "import numpy as np"
      ]
    },
    {
      "cell_type": "markdown",
      "source": [
        "**Convert USD revenues to INR**"
      ],
      "metadata": {
        "id": "hadjciv3nfB5"
      }
    },
    {
      "cell_type": "code",
      "source": [
        "revenues_usd = np.array([[200,220,250],[68,79,105],[110,140,180],[80,85,90]])\n",
        "revenues_inr = 75*revenues_usd\n",
        "revenues_inr"
      ],
      "metadata": {
        "colab": {
          "base_uri": "https://localhost:8080/"
        },
        "id": "yGH-t7ABnCSq",
        "outputId": "0cb551fc-f1a8-471c-d756-eebafb6a5606"
      },
      "execution_count": 6,
      "outputs": [
        {
          "output_type": "execute_result",
          "data": {
            "text/plain": [
              "array([[15000, 16500, 18750],\n",
              "       [ 5100,  5925,  7875],\n",
              "       [ 8250, 10500, 13500],\n",
              "       [ 6000,  6375,  6750]])"
            ]
          },
          "metadata": {},
          "execution_count": 6
        }
      ]
    },
    {
      "cell_type": "markdown",
      "source": [
        "**Calculate total flowers sale every month for divine flowers shop**"
      ],
      "metadata": {
        "id": "OBH0N-Y9njSf"
      }
    },
    {
      "cell_type": "code",
      "source": [
        "units_sold = np.array([[50,60,25],[10,13,5],[40,70,52]])\n",
        "price_per_unit = np.array([20,30,15])"
      ],
      "metadata": {
        "id": "W2gE_4ssnase"
      },
      "execution_count": 7,
      "outputs": []
    },
    {
      "cell_type": "code",
      "source": [
        "total_amount = np.dot(price_per_unit, units_sold)\n",
        "total_amount"
      ],
      "metadata": {
        "colab": {
          "base_uri": "https://localhost:8080/"
        },
        "id": "sswg6JHdn1nl",
        "outputId": "ad92e110-88d4-4cbd-904c-584d267421be"
      },
      "execution_count": 9,
      "outputs": [
        {
          "output_type": "execute_result",
          "data": {
            "text/plain": [
              "array([1900, 2640, 1430])"
            ]
          },
          "metadata": {},
          "execution_count": 9
        }
      ]
    }
  ]
}